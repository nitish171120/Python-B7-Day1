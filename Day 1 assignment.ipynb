{
  "nbformat": 4,
  "nbformat_minor": 0,
  "metadata": {
    "colab": {
      "name": "Assignment1.ipynb.txt",
      "provenance": []
    },
    "kernelspec": {
      "name": "python3",
      "display_name": "Python 3"
    }
  },
  "cells": [
    {
      "cell_type": "markdown",
      "metadata": {
        "id": "o6noBKjtYXHm",
        "colab_type": "text"
      },
      "source": [
        "**#List**"
      ]
    },
    {
      "cell_type": "code",
      "metadata": {
        "id": "gxHbvUaPLjee",
        "colab_type": "code",
        "colab": {}
      },
      "source": [
        " \n",
        "#list defaults\n",
        "Lst=[\"nitish\", \"gupta\", 1,2,[\"abc\",24, 63,798.34],89.54]"
      ],
      "execution_count": 3,
      "outputs": []
    },
    {
      "cell_type": "code",
      "metadata": {
        "id": "f0iwImz9MHd0",
        "colab_type": "code",
        "colab": {
          "base_uri": "https://localhost:8080/",
          "height": 34
        },
        "outputId": "28f5141b-c522-49cc-bf87-349b0035e8b2"
      },
      "source": [
        "Lst"
      ],
      "execution_count": 4,
      "outputs": [
        {
          "output_type": "execute_result",
          "data": {
            "text/plain": [
              "['nitish', 'gupta', 1, 2, ['abc', 24, 63, 798.34], 89.54]"
            ]
          },
          "metadata": {
            "tags": []
          },
          "execution_count": 4
        }
      ]
    },
    {
      "cell_type": "code",
      "metadata": {
        "id": "QRmDdF5TMNQf",
        "colab_type": "code",
        "colab": {
          "base_uri": "https://localhost:8080/",
          "height": 34
        },
        "outputId": "7c1af429-79a9-46dd-d5c5-ca69be8b3e8a"
      },
      "source": [
        "Lst.index(1)"
      ],
      "execution_count": 5,
      "outputs": [
        {
          "output_type": "execute_result",
          "data": {
            "text/plain": [
              "2"
            ]
          },
          "metadata": {
            "tags": []
          },
          "execution_count": 5
        }
      ]
    },
    {
      "cell_type": "code",
      "metadata": {
        "id": "t9RsIu9oMfuR",
        "colab_type": "code",
        "colab": {}
      },
      "source": [
        "Lst.append(1897)"
      ],
      "execution_count": 6,
      "outputs": []
    },
    {
      "cell_type": "code",
      "metadata": {
        "id": "zRk3nz8OMn0p",
        "colab_type": "code",
        "colab": {
          "base_uri": "https://localhost:8080/",
          "height": 34
        },
        "outputId": "24f07ba5-3fc8-447a-8e52-81bf9b910a80"
      },
      "source": [
        "Lst"
      ],
      "execution_count": 7,
      "outputs": [
        {
          "output_type": "execute_result",
          "data": {
            "text/plain": [
              "['nitish', 'gupta', 1, 2, ['abc', 24, 63, 798.34], 89.54, 1897]"
            ]
          },
          "metadata": {
            "tags": []
          },
          "execution_count": 7
        }
      ]
    },
    {
      "cell_type": "code",
      "metadata": {
        "id": "qsqcA1l8NVre",
        "colab_type": "code",
        "colab": {}
      },
      "source": [
        "Lst.remove(\"gupta\")"
      ],
      "execution_count": 8,
      "outputs": []
    },
    {
      "cell_type": "code",
      "metadata": {
        "id": "372GwEJcNfZd",
        "colab_type": "code",
        "colab": {
          "base_uri": "https://localhost:8080/",
          "height": 34
        },
        "outputId": "c605e603-4e87-4216-c0f1-54e07a590cd4"
      },
      "source": [
        "Lst"
      ],
      "execution_count": 9,
      "outputs": [
        {
          "output_type": "execute_result",
          "data": {
            "text/plain": [
              "['nitish', 1, 2, ['abc', 24, 63, 798.34], 89.54, 1897]"
            ]
          },
          "metadata": {
            "tags": []
          },
          "execution_count": 9
        }
      ]
    },
    {
      "cell_type": "code",
      "metadata": {
        "id": "xZ_oF827Nm4u",
        "colab_type": "code",
        "colab": {
          "base_uri": "https://localhost:8080/",
          "height": 34
        },
        "outputId": "662ee2dd-d582-4bda-e30d-4bc7146b2a01"
      },
      "source": [
        "Lst.pop(2)"
      ],
      "execution_count": 10,
      "outputs": [
        {
          "output_type": "execute_result",
          "data": {
            "text/plain": [
              "2"
            ]
          },
          "metadata": {
            "tags": []
          },
          "execution_count": 10
        }
      ]
    },
    {
      "cell_type": "code",
      "metadata": {
        "id": "eNXOL1O6N3VI",
        "colab_type": "code",
        "colab": {
          "base_uri": "https://localhost:8080/",
          "height": 34
        },
        "outputId": "f513acb6-1b22-46f5-bea7-93de39467a49"
      },
      "source": [
        "Lst"
      ],
      "execution_count": 11,
      "outputs": [
        {
          "output_type": "execute_result",
          "data": {
            "text/plain": [
              "['nitish', 1, ['abc', 24, 63, 798.34], 89.54, 1897]"
            ]
          },
          "metadata": {
            "tags": []
          },
          "execution_count": 11
        }
      ]
    },
    {
      "cell_type": "code",
      "metadata": {
        "id": "OySibZv0OVew",
        "colab_type": "code",
        "colab": {
          "base_uri": "https://localhost:8080/",
          "height": 34
        },
        "outputId": "e93947d6-681e-4f0f-8c8a-1c2e40c87be0"
      },
      "source": [
        "Lst.count(\"nitish\")"
      ],
      "execution_count": 12,
      "outputs": [
        {
          "output_type": "execute_result",
          "data": {
            "text/plain": [
              "1"
            ]
          },
          "metadata": {
            "tags": []
          },
          "execution_count": 12
        }
      ]
    },
    {
      "cell_type": "code",
      "metadata": {
        "id": "NKA3dQT-Ocb2",
        "colab_type": "code",
        "colab": {}
      },
      "source": [
        "Lst.reverse()"
      ],
      "execution_count": 14,
      "outputs": []
    },
    {
      "cell_type": "code",
      "metadata": {
        "id": "GreMISxNOyAv",
        "colab_type": "code",
        "colab": {
          "base_uri": "https://localhost:8080/",
          "height": 34
        },
        "outputId": "1ff8476c-2328-40b9-b800-9fb5827dddc6"
      },
      "source": [
        "Lst"
      ],
      "execution_count": 15,
      "outputs": [
        {
          "output_type": "execute_result",
          "data": {
            "text/plain": [
              "['nitish', 1, ['abc', 24, 63, 798.34], 89.54, 1897]"
            ]
          },
          "metadata": {
            "tags": []
          },
          "execution_count": 15
        }
      ]
    },
    {
      "cell_type": "code",
      "metadata": {
        "id": "xr30aWQoO022",
        "colab_type": "code",
        "colab": {}
      },
      "source": [
        "Lst.reverse()"
      ],
      "execution_count": 16,
      "outputs": []
    },
    {
      "cell_type": "code",
      "metadata": {
        "id": "ZXvwvdvlO5LE",
        "colab_type": "code",
        "colab": {
          "base_uri": "https://localhost:8080/",
          "height": 34
        },
        "outputId": "13586c62-12f0-4d45-ea87-01734f2329f1"
      },
      "source": [
        "Lst"
      ],
      "execution_count": 17,
      "outputs": [
        {
          "output_type": "execute_result",
          "data": {
            "text/plain": [
              "[1897, 89.54, ['abc', 24, 63, 798.34], 1, 'nitish']"
            ]
          },
          "metadata": {
            "tags": []
          },
          "execution_count": 17
        }
      ]
    },
    {
      "cell_type": "code",
      "metadata": {
        "id": "lKQ3LrL7O-IP",
        "colab_type": "code",
        "colab": {}
      },
      "source": [
        "Lst.insert(1,\"gupta\")"
      ],
      "execution_count": 18,
      "outputs": []
    },
    {
      "cell_type": "code",
      "metadata": {
        "id": "jZNPhWYhPVBh",
        "colab_type": "code",
        "colab": {
          "base_uri": "https://localhost:8080/",
          "height": 34
        },
        "outputId": "3ca258aa-bb71-4a39-9563-4b114b027f61"
      },
      "source": [
        "Lst"
      ],
      "execution_count": 19,
      "outputs": [
        {
          "output_type": "execute_result",
          "data": {
            "text/plain": [
              "[1897, 'gupta', 89.54, ['abc', 24, 63, 798.34], 1, 'nitish']"
            ]
          },
          "metadata": {
            "tags": []
          },
          "execution_count": 19
        }
      ]
    },
    {
      "cell_type": "code",
      "metadata": {
        "id": "9FsFc67lPYWJ",
        "colab_type": "code",
        "colab": {}
      },
      "source": [
        "Lst2=[\"Letsupgrade\",\"Sai\"]"
      ],
      "execution_count": 20,
      "outputs": []
    },
    {
      "cell_type": "code",
      "metadata": {
        "id": "cR2rSFg_P4fO",
        "colab_type": "code",
        "colab": {}
      },
      "source": [
        "Lst.extend(Lst2)"
      ],
      "execution_count": 21,
      "outputs": []
    },
    {
      "cell_type": "code",
      "metadata": {
        "id": "AutBW3aXP-O4",
        "colab_type": "code",
        "colab": {
          "base_uri": "https://localhost:8080/",
          "height": 151
        },
        "outputId": "77a59098-6256-4bbc-8b46-b5cf65f1d51e"
      },
      "source": [
        "Lst"
      ],
      "execution_count": 22,
      "outputs": [
        {
          "output_type": "execute_result",
          "data": {
            "text/plain": [
              "[1897,\n",
              " 'gupta',\n",
              " 89.54,\n",
              " ['abc', 24, 63, 798.34],\n",
              " 1,\n",
              " 'nitish',\n",
              " 'Letsupgrade',\n",
              " 'Sai']"
            ]
          },
          "metadata": {
            "tags": []
          },
          "execution_count": 22
        }
      ]
    },
    {
      "cell_type": "code",
      "metadata": {
        "id": "ZbW1z2fkQQ3N",
        "colab_type": "code",
        "colab": {}
      },
      "source": [
        "Lst3= Lst2.copy()"
      ],
      "execution_count": 23,
      "outputs": []
    },
    {
      "cell_type": "code",
      "metadata": {
        "id": "QzUB4PXOQeC9",
        "colab_type": "code",
        "colab": {
          "base_uri": "https://localhost:8080/",
          "height": 34
        },
        "outputId": "dc9be5e2-adf5-4afc-f731-e9bfa5c9ae7a"
      },
      "source": [
        "Lst3"
      ],
      "execution_count": 24,
      "outputs": [
        {
          "output_type": "execute_result",
          "data": {
            "text/plain": [
              "['Letsupgrade', 'Sai']"
            ]
          },
          "metadata": {
            "tags": []
          },
          "execution_count": 24
        }
      ]
    },
    {
      "cell_type": "code",
      "metadata": {
        "id": "w1YqGCIgQiNR",
        "colab_type": "code",
        "colab": {}
      },
      "source": [
        "Lst3.clear()"
      ],
      "execution_count": 25,
      "outputs": []
    },
    {
      "cell_type": "code",
      "metadata": {
        "id": "a6P2YvQ4Ql70",
        "colab_type": "code",
        "colab": {
          "base_uri": "https://localhost:8080/",
          "height": 34
        },
        "outputId": "4018d15a-1afb-4dd0-a256-fe8458dff18c"
      },
      "source": [
        "Lst3"
      ],
      "execution_count": 26,
      "outputs": [
        {
          "output_type": "execute_result",
          "data": {
            "text/plain": [
              "[]"
            ]
          },
          "metadata": {
            "tags": []
          },
          "execution_count": 26
        }
      ]
    },
    {
      "cell_type": "markdown",
      "metadata": {
        "id": "tTPwKY1KQ9YK",
        "colab_type": "text"
      },
      "source": [
        "**#Dictionary**"
      ]
    },
    {
      "cell_type": "code",
      "metadata": {
        "id": "1VIIl1sgRV8B",
        "colab_type": "code",
        "colab": {}
      },
      "source": [
        "Dit={\"name\":\"nitish\", \"age\":20,\"Pin\":1234,\"number\":123456}"
      ],
      "execution_count": 27,
      "outputs": []
    },
    {
      "cell_type": "code",
      "metadata": {
        "id": "l9KicAhTR6PP",
        "colab_type": "code",
        "colab": {
          "base_uri": "https://localhost:8080/",
          "height": 34
        },
        "outputId": "410a7353-dab3-42d9-8235-88c278b94046"
      },
      "source": [
        "Dit"
      ],
      "execution_count": 28,
      "outputs": [
        {
          "output_type": "execute_result",
          "data": {
            "text/plain": [
              "{'Pin': 1234, 'age': 20, 'name': 'nitish', 'number': 123456}"
            ]
          },
          "metadata": {
            "tags": []
          },
          "execution_count": 28
        }
      ]
    },
    {
      "cell_type": "code",
      "metadata": {
        "id": "xISzMk1uSbL3",
        "colab_type": "code",
        "colab": {}
      },
      "source": [
        "Dit1= Dit.copy()"
      ],
      "execution_count": 29,
      "outputs": []
    },
    {
      "cell_type": "code",
      "metadata": {
        "id": "osGxyT1pSinQ",
        "colab_type": "code",
        "colab": {
          "base_uri": "https://localhost:8080/",
          "height": 34
        },
        "outputId": "e9adff20-d0ce-418d-8ca1-c4543923672a"
      },
      "source": [
        "Dit1"
      ],
      "execution_count": 30,
      "outputs": [
        {
          "output_type": "execute_result",
          "data": {
            "text/plain": [
              "{'Pin': 1234, 'age': 20, 'name': 'nitish', 'number': 123456}"
            ]
          },
          "metadata": {
            "tags": []
          },
          "execution_count": 30
        }
      ]
    },
    {
      "cell_type": "code",
      "metadata": {
        "id": "HfPxprB-SmYv",
        "colab_type": "code",
        "colab": {}
      },
      "source": [
        "Dit1.clear()"
      ],
      "execution_count": 31,
      "outputs": []
    },
    {
      "cell_type": "code",
      "metadata": {
        "id": "sXUx5RUOSqVc",
        "colab_type": "code",
        "colab": {
          "base_uri": "https://localhost:8080/",
          "height": 34
        },
        "outputId": "20f782eb-0bc6-43c9-8df6-c85e4ed73e48"
      },
      "source": [
        "Dit1"
      ],
      "execution_count": 32,
      "outputs": [
        {
          "output_type": "execute_result",
          "data": {
            "text/plain": [
              "{}"
            ]
          },
          "metadata": {
            "tags": []
          },
          "execution_count": 32
        }
      ]
    },
    {
      "cell_type": "code",
      "metadata": {
        "id": "2SxdxNW8TKxa",
        "colab_type": "code",
        "colab": {
          "base_uri": "https://localhost:8080/",
          "height": 34
        },
        "outputId": "46e82e79-1880-4a0f-bf88-b69baf8c3a65"
      },
      "source": [
        "Dit.popitem()"
      ],
      "execution_count": 33,
      "outputs": [
        {
          "output_type": "execute_result",
          "data": {
            "text/plain": [
              "('number', 123456)"
            ]
          },
          "metadata": {
            "tags": []
          },
          "execution_count": 33
        }
      ]
    },
    {
      "cell_type": "code",
      "metadata": {
        "id": "vbHFpx4dToof",
        "colab_type": "code",
        "colab": {
          "base_uri": "https://localhost:8080/",
          "height": 34
        },
        "outputId": "3f5b6045-6e67-4c7a-b7f3-4d425c826a88"
      },
      "source": [
        "Dit"
      ],
      "execution_count": 34,
      "outputs": [
        {
          "output_type": "execute_result",
          "data": {
            "text/plain": [
              "{'Pin': 1234, 'age': 20, 'name': 'nitish'}"
            ]
          },
          "metadata": {
            "tags": []
          },
          "execution_count": 34
        }
      ]
    },
    {
      "cell_type": "code",
      "metadata": {
        "id": "ZRVE36VGTtSi",
        "colab_type": "code",
        "colab": {}
      },
      "source": [
        "Dit3={\"msg\":\"hello\"}"
      ],
      "execution_count": 35,
      "outputs": []
    },
    {
      "cell_type": "code",
      "metadata": {
        "id": "wwXCzmbbUX0a",
        "colab_type": "code",
        "colab": {}
      },
      "source": [
        "Dit.update(Dit3)"
      ],
      "execution_count": 36,
      "outputs": []
    },
    {
      "cell_type": "code",
      "metadata": {
        "id": "ydXJN6R8UesX",
        "colab_type": "code",
        "colab": {
          "base_uri": "https://localhost:8080/",
          "height": 34
        },
        "outputId": "2368b877-fab7-4210-bca0-101ad8176041"
      },
      "source": [
        "Dit"
      ],
      "execution_count": 37,
      "outputs": [
        {
          "output_type": "execute_result",
          "data": {
            "text/plain": [
              "{'Pin': 1234, 'age': 20, 'msg': 'hello', 'name': 'nitish'}"
            ]
          },
          "metadata": {
            "tags": []
          },
          "execution_count": 37
        }
      ]
    },
    {
      "cell_type": "code",
      "metadata": {
        "id": "wI3hB0H4UyC4",
        "colab_type": "code",
        "colab": {
          "base_uri": "https://localhost:8080/",
          "height": 35
        },
        "outputId": "614b10ef-52fe-4371-f6fb-b902ee6a48cd"
      },
      "source": [
        "Dit.get(\"name\")"
      ],
      "execution_count": 38,
      "outputs": [
        {
          "output_type": "execute_result",
          "data": {
            "application/vnd.google.colaboratory.intrinsic+json": {
              "type": "string"
            },
            "text/plain": [
              "'nitish'"
            ]
          },
          "metadata": {
            "tags": []
          },
          "execution_count": 38
        }
      ]
    },
    {
      "cell_type": "code",
      "metadata": {
        "id": "HxZckXhjWQ9M",
        "colab_type": "code",
        "colab": {
          "base_uri": "https://localhost:8080/",
          "height": 34
        },
        "outputId": "86d11da6-8330-4f59-cb2f-dea5cccc2f19"
      },
      "source": [
        "Dit.items()"
      ],
      "execution_count": 39,
      "outputs": [
        {
          "output_type": "execute_result",
          "data": {
            "text/plain": [
              "dict_items([('name', 'nitish'), ('age', 20), ('Pin', 1234), ('msg', 'hello')])"
            ]
          },
          "metadata": {
            "tags": []
          },
          "execution_count": 39
        }
      ]
    },
    {
      "cell_type": "code",
      "metadata": {
        "id": "A6WktLH2WZMC",
        "colab_type": "code",
        "colab": {
          "base_uri": "https://localhost:8080/",
          "height": 35
        },
        "outputId": "27f6e4b6-dc2d-4e68-cf56-448b66ca252e"
      },
      "source": [
        "Dit.pop(\"msg\")"
      ],
      "execution_count": 40,
      "outputs": [
        {
          "output_type": "execute_result",
          "data": {
            "application/vnd.google.colaboratory.intrinsic+json": {
              "type": "string"
            },
            "text/plain": [
              "'hello'"
            ]
          },
          "metadata": {
            "tags": []
          },
          "execution_count": 40
        }
      ]
    },
    {
      "cell_type": "code",
      "metadata": {
        "id": "uboo9GuFWf7m",
        "colab_type": "code",
        "colab": {
          "base_uri": "https://localhost:8080/",
          "height": 34
        },
        "outputId": "16d41b61-0fc5-42d9-9be7-206a8a22dac4"
      },
      "source": [
        "Dit"
      ],
      "execution_count": 41,
      "outputs": [
        {
          "output_type": "execute_result",
          "data": {
            "text/plain": [
              "{'Pin': 1234, 'age': 20, 'name': 'nitish'}"
            ]
          },
          "metadata": {
            "tags": []
          },
          "execution_count": 41
        }
      ]
    },
    {
      "cell_type": "code",
      "metadata": {
        "id": "L4l8AUopWstl",
        "colab_type": "code",
        "colab": {}
      },
      "source": [
        "Dit9={}"
      ],
      "execution_count": 42,
      "outputs": []
    },
    {
      "cell_type": "code",
      "metadata": {
        "id": "IfSaBWx5XCuU",
        "colab_type": "code",
        "colab": {
          "base_uri": "https://localhost:8080/",
          "height": 34
        },
        "outputId": "24adac27-6474-4bed-e001-11e7c1d1b3ba"
      },
      "source": [
        "Dit9.keys()"
      ],
      "execution_count": 43,
      "outputs": [
        {
          "output_type": "execute_result",
          "data": {
            "text/plain": [
              "dict_keys([])"
            ]
          },
          "metadata": {
            "tags": []
          },
          "execution_count": 43
        }
      ]
    },
    {
      "cell_type": "code",
      "metadata": {
        "id": "nouzKIrZXNbU",
        "colab_type": "code",
        "colab": {
          "base_uri": "https://localhost:8080/",
          "height": 34
        },
        "outputId": "9d2a1e68-ab9d-4593-9af4-cfbf5d07ed3a"
      },
      "source": [
        "Dit.keys()"
      ],
      "execution_count": 44,
      "outputs": [
        {
          "output_type": "execute_result",
          "data": {
            "text/plain": [
              "dict_keys(['name', 'age', 'Pin'])"
            ]
          },
          "metadata": {
            "tags": []
          },
          "execution_count": 44
        }
      ]
    },
    {
      "cell_type": "code",
      "metadata": {
        "id": "6AcYzuskXSGi",
        "colab_type": "code",
        "colab": {
          "base_uri": "https://localhost:8080/",
          "height": 34
        },
        "outputId": "f73d7d56-3601-417f-8ffd-510ca3ff3e2b"
      },
      "source": [
        "dict.fromkeys(Dit)"
      ],
      "execution_count": 46,
      "outputs": [
        {
          "output_type": "execute_result",
          "data": {
            "text/plain": [
              "{'Pin': None, 'age': None, 'name': None}"
            ]
          },
          "metadata": {
            "tags": []
          },
          "execution_count": 46
        }
      ]
    },
    {
      "cell_type": "markdown",
      "metadata": {
        "id": "XGSacvzDYEL_",
        "colab_type": "text"
      },
      "source": [
        "**#SETS**"
      ]
    },
    {
      "cell_type": "code",
      "metadata": {
        "id": "wXG1cs6MYJmH",
        "colab_type": "code",
        "colab": {}
      },
      "source": [
        "Stb={\"abhi\", \"valley\",1,2,44,66,44,523,66,76,66,3,7.78,6,44}"
      ],
      "execution_count": 47,
      "outputs": []
    },
    {
      "cell_type": "code",
      "metadata": {
        "id": "kBkHk3n2ZLw1",
        "colab_type": "code",
        "colab": {}
      },
      "source": [
        "Stb.add(\"abc\")"
      ],
      "execution_count": 48,
      "outputs": []
    },
    {
      "cell_type": "code",
      "metadata": {
        "id": "arz9C-GiZPyb",
        "colab_type": "code",
        "colab": {
          "base_uri": "https://localhost:8080/",
          "height": 34
        },
        "outputId": "dba71d2f-0fd5-42ff-c23a-75bb276c67df"
      },
      "source": [
        "Stb"
      ],
      "execution_count": 49,
      "outputs": [
        {
          "output_type": "execute_result",
          "data": {
            "text/plain": [
              "{1, 2, 3, 44, 523, 6, 66, 7.78, 76, 'abc', 'abhi', 'valley'}"
            ]
          },
          "metadata": {
            "tags": []
          },
          "execution_count": 49
        }
      ]
    },
    {
      "cell_type": "code",
      "metadata": {
        "id": "zEPwIBgQZWln",
        "colab_type": "code",
        "colab": {}
      },
      "source": [
        "St1= Stb.copy()"
      ],
      "execution_count": 50,
      "outputs": []
    },
    {
      "cell_type": "code",
      "metadata": {
        "id": "3rEWSylSZhgA",
        "colab_type": "code",
        "colab": {
          "base_uri": "https://localhost:8080/",
          "height": 34
        },
        "outputId": "38b2a515-4c84-4789-ab8d-4bdc053e5449"
      },
      "source": [
        "St1"
      ],
      "execution_count": 51,
      "outputs": [
        {
          "output_type": "execute_result",
          "data": {
            "text/plain": [
              "{1, 2, 3, 44, 523, 6, 66, 7.78, 76, 'abc', 'abhi', 'valley'}"
            ]
          },
          "metadata": {
            "tags": []
          },
          "execution_count": 51
        }
      ]
    },
    {
      "cell_type": "code",
      "metadata": {
        "id": "q0g2Fz0AZkTy",
        "colab_type": "code",
        "colab": {}
      },
      "source": [
        "St1.clear()"
      ],
      "execution_count": 52,
      "outputs": []
    },
    {
      "cell_type": "code",
      "metadata": {
        "id": "p7UskH4KZoyF",
        "colab_type": "code",
        "colab": {
          "base_uri": "https://localhost:8080/",
          "height": 34
        },
        "outputId": "34df2a62-220a-41ac-b772-46fda024036d"
      },
      "source": [
        "St1"
      ],
      "execution_count": 53,
      "outputs": [
        {
          "output_type": "execute_result",
          "data": {
            "text/plain": [
              "set()"
            ]
          },
          "metadata": {
            "tags": []
          },
          "execution_count": 53
        }
      ]
    },
    {
      "cell_type": "code",
      "metadata": {
        "id": "Od55SygqZ8fG",
        "colab_type": "code",
        "colab": {}
      },
      "source": [
        "Stb.discard(2)"
      ],
      "execution_count": 54,
      "outputs": []
    },
    {
      "cell_type": "code",
      "metadata": {
        "id": "-mJ2Za_YaAey",
        "colab_type": "code",
        "colab": {
          "base_uri": "https://localhost:8080/",
          "height": 34
        },
        "outputId": "d4920c52-72a9-4160-ee01-a1310d186da0"
      },
      "source": [
        "Stb"
      ],
      "execution_count": 55,
      "outputs": [
        {
          "output_type": "execute_result",
          "data": {
            "text/plain": [
              "{1, 3, 44, 523, 6, 66, 7.78, 76, 'abc', 'abhi', 'valley'}"
            ]
          },
          "metadata": {
            "tags": []
          },
          "execution_count": 55
        }
      ]
    },
    {
      "cell_type": "code",
      "metadata": {
        "id": "eju5mvOsaD58",
        "colab_type": "code",
        "colab": {}
      },
      "source": [
        "St1.add(\"hii\")"
      ],
      "execution_count": 56,
      "outputs": []
    },
    {
      "cell_type": "code",
      "metadata": {
        "id": "mBdCvOGMaQhd",
        "colab_type": "code",
        "colab": {}
      },
      "source": [
        "St1.add(771990)"
      ],
      "execution_count": 57,
      "outputs": []
    },
    {
      "cell_type": "code",
      "metadata": {
        "id": "riInlskXagKq",
        "colab_type": "code",
        "colab": {}
      },
      "source": [
        "St1.add(1)"
      ],
      "execution_count": 58,
      "outputs": []
    },
    {
      "cell_type": "code",
      "metadata": {
        "id": "laALPshRak-D",
        "colab_type": "code",
        "colab": {
          "base_uri": "https://localhost:8080/",
          "height": 34
        },
        "outputId": "c91252bf-f016-4990-f1b2-1a29639647fd"
      },
      "source": [
        "St1"
      ],
      "execution_count": 59,
      "outputs": [
        {
          "output_type": "execute_result",
          "data": {
            "text/plain": [
              "{1, 771990, 'hii'}"
            ]
          },
          "metadata": {
            "tags": []
          },
          "execution_count": 59
        }
      ]
    },
    {
      "cell_type": "code",
      "metadata": {
        "id": "o0bYamv_aooX",
        "colab_type": "code",
        "colab": {}
      },
      "source": [
        "St1.add(1)"
      ],
      "execution_count": 60,
      "outputs": []
    },
    {
      "cell_type": "code",
      "metadata": {
        "id": "na_I6sQ9aVKZ",
        "colab_type": "code",
        "colab": {
          "base_uri": "https://localhost:8080/",
          "height": 34
        },
        "outputId": "450f4c1f-55fc-4ee3-8a70-6fc7718b15bb"
      },
      "source": [
        "St1"
      ],
      "execution_count": 61,
      "outputs": [
        {
          "output_type": "execute_result",
          "data": {
            "text/plain": [
              "{1, 771990, 'hii'}"
            ]
          },
          "metadata": {
            "tags": []
          },
          "execution_count": 61
        }
      ]
    },
    {
      "cell_type": "code",
      "metadata": {
        "id": "6EROqrCYaXWE",
        "colab_type": "code",
        "colab": {}
      },
      "source": [
        "St1.add(3)"
      ],
      "execution_count": 62,
      "outputs": []
    },
    {
      "cell_type": "code",
      "metadata": {
        "id": "60eNqCakarBd",
        "colab_type": "code",
        "colab": {
          "base_uri": "https://localhost:8080/",
          "height": 34
        },
        "outputId": "0c1ce611-fb59-4cd1-812a-a63eed7d1afc"
      },
      "source": [
        "St1"
      ],
      "execution_count": 63,
      "outputs": [
        {
          "output_type": "execute_result",
          "data": {
            "text/plain": [
              "{1, 3, 771990, 'hii'}"
            ]
          },
          "metadata": {
            "tags": []
          },
          "execution_count": 63
        }
      ]
    },
    {
      "cell_type": "code",
      "metadata": {
        "id": "GmLjDnQibCvz",
        "colab_type": "code",
        "colab": {
          "base_uri": "https://localhost:8080/",
          "height": 34
        },
        "outputId": "b8225055-4a3b-4331-dd57-3d91848ad7ab"
      },
      "source": [
        "Stb.difference(St1)"
      ],
      "execution_count": 64,
      "outputs": [
        {
          "output_type": "execute_result",
          "data": {
            "text/plain": [
              "{44, 523, 6, 66, 7.78, 76, 'abc', 'abhi', 'valley'}"
            ]
          },
          "metadata": {
            "tags": []
          },
          "execution_count": 64
        }
      ]
    },
    {
      "cell_type": "code",
      "metadata": {
        "id": "zSwMnIpXbZrI",
        "colab_type": "code",
        "colab": {}
      },
      "source": [
        "Stb.difference_update(St1)"
      ],
      "execution_count": 65,
      "outputs": []
    },
    {
      "cell_type": "code",
      "metadata": {
        "id": "EsYoM6EKbhQ9",
        "colab_type": "code",
        "colab": {
          "base_uri": "https://localhost:8080/",
          "height": 34
        },
        "outputId": "7fc153ca-887a-44c2-8804-5e8509eb1cce"
      },
      "source": [
        "Stb"
      ],
      "execution_count": 66,
      "outputs": [
        {
          "output_type": "execute_result",
          "data": {
            "text/plain": [
              "{44, 523, 6, 66, 7.78, 76, 'abc', 'abhi', 'valley'}"
            ]
          },
          "metadata": {
            "tags": []
          },
          "execution_count": 66
        }
      ]
    },
    {
      "cell_type": "code",
      "metadata": {
        "id": "bwKjUrBjbpoP",
        "colab_type": "code",
        "colab": {}
      },
      "source": [
        "Stb.add(1)"
      ],
      "execution_count": 67,
      "outputs": []
    },
    {
      "cell_type": "code",
      "metadata": {
        "id": "QPB1kk9YbvyZ",
        "colab_type": "code",
        "colab": {}
      },
      "source": [
        "Stb.add(2)"
      ],
      "execution_count": 68,
      "outputs": []
    },
    {
      "cell_type": "code",
      "metadata": {
        "id": "wsZONoiDb0D9",
        "colab_type": "code",
        "colab": {}
      },
      "source": [
        "Stb.add(3)"
      ],
      "execution_count": 69,
      "outputs": []
    },
    {
      "cell_type": "code",
      "metadata": {
        "id": "t9pAoh_Fb4Wn",
        "colab_type": "code",
        "colab": {
          "base_uri": "https://localhost:8080/",
          "height": 34
        },
        "outputId": "975a390c-4a9e-4d39-9f66-29ccf347508e"
      },
      "source": [
        "Stb"
      ],
      "execution_count": 70,
      "outputs": [
        {
          "output_type": "execute_result",
          "data": {
            "text/plain": [
              "{1, 2, 3, 44, 523, 6, 66, 7.78, 76, 'abc', 'abhi', 'valley'}"
            ]
          },
          "metadata": {
            "tags": []
          },
          "execution_count": 70
        }
      ]
    },
    {
      "cell_type": "code",
      "metadata": {
        "id": "9TlycOFqb6WK",
        "colab_type": "code",
        "colab": {
          "base_uri": "https://localhost:8080/",
          "height": 34
        },
        "outputId": "e9abf6bd-d5ba-4f94-b5d7-cbef1cb96c49"
      },
      "source": [
        "Stb.intersection(St1)"
      ],
      "execution_count": 71,
      "outputs": [
        {
          "output_type": "execute_result",
          "data": {
            "text/plain": [
              "{1, 3}"
            ]
          },
          "metadata": {
            "tags": []
          },
          "execution_count": 71
        }
      ]
    },
    {
      "cell_type": "code",
      "metadata": {
        "id": "_xkev1PrcB7v",
        "colab_type": "code",
        "colab": {
          "base_uri": "https://localhost:8080/",
          "height": 34
        },
        "outputId": "51bedff0-2fa3-43c0-99c1-1e7c2c263ac4"
      },
      "source": [
        "St1"
      ],
      "execution_count": 72,
      "outputs": [
        {
          "output_type": "execute_result",
          "data": {
            "text/plain": [
              "{1, 3, 771990, 'hii'}"
            ]
          },
          "metadata": {
            "tags": []
          },
          "execution_count": 72
        }
      ]
    },
    {
      "cell_type": "code",
      "metadata": {
        "id": "h_wKsRCHcD9n",
        "colab_type": "code",
        "colab": {}
      },
      "source": [
        "St1.intersection_update(Stb)"
      ],
      "execution_count": 73,
      "outputs": []
    },
    {
      "cell_type": "code",
      "metadata": {
        "id": "lUKfCXzecKoh",
        "colab_type": "code",
        "colab": {
          "base_uri": "https://localhost:8080/",
          "height": 34
        },
        "outputId": "c6b63a1a-8286-41f0-93b4-439eadadb04d"
      },
      "source": [
        "St1"
      ],
      "execution_count": 74,
      "outputs": [
        {
          "output_type": "execute_result",
          "data": {
            "text/plain": [
              "{1, 3}"
            ]
          },
          "metadata": {
            "tags": []
          },
          "execution_count": 74
        }
      ]
    },
    {
      "cell_type": "code",
      "metadata": {
        "id": "yNi-ThNAcO-i",
        "colab_type": "code",
        "colab": {
          "base_uri": "https://localhost:8080/",
          "height": 34
        },
        "outputId": "b43547f7-9a8e-486d-ab34-b8f4fa908336"
      },
      "source": [
        "St1.issubset(Stb)"
      ],
      "execution_count": 75,
      "outputs": [
        {
          "output_type": "execute_result",
          "data": {
            "text/plain": [
              "True"
            ]
          },
          "metadata": {
            "tags": []
          },
          "execution_count": 75
        }
      ]
    },
    {
      "cell_type": "code",
      "metadata": {
        "id": "zHHDp_d0cUQ5",
        "colab_type": "code",
        "colab": {
          "base_uri": "https://localhost:8080/",
          "height": 34
        },
        "outputId": "c9d4ebf2-2a31-48ec-cf2d-e6e165e571d6"
      },
      "source": [
        "St1.isdisjoint(Stb)"
      ],
      "execution_count": 76,
      "outputs": [
        {
          "output_type": "execute_result",
          "data": {
            "text/plain": [
              "False"
            ]
          },
          "metadata": {
            "tags": []
          },
          "execution_count": 76
        }
      ]
    },
    {
      "cell_type": "markdown",
      "metadata": {
        "id": "9K2wjxl-ca45",
        "colab_type": "text"
      },
      "source": [
        " **#Tuples**"
      ]
    },
    {
      "cell_type": "code",
      "metadata": {
        "id": "bWi0KOl4co2k",
        "colab_type": "code",
        "colab": {}
      },
      "source": [
        "Tap=(\"hello\",1234,\"fake world\")"
      ],
      "execution_count": 79,
      "outputs": []
    },
    {
      "cell_type": "code",
      "metadata": {
        "id": "burzCrzfc1us",
        "colab_type": "code",
        "colab": {
          "base_uri": "https://localhost:8080/",
          "height": 34
        },
        "outputId": "c7fae068-7049-4903-ba82-92b50ec865e4"
      },
      "source": [
        "Tap"
      ],
      "execution_count": 80,
      "outputs": [
        {
          "output_type": "execute_result",
          "data": {
            "text/plain": [
              "('hello', 1234, 'fake world')"
            ]
          },
          "metadata": {
            "tags": []
          },
          "execution_count": 80
        }
      ]
    },
    {
      "cell_type": "code",
      "metadata": {
        "id": "gezRW9Nnc44S",
        "colab_type": "code",
        "colab": {
          "base_uri": "https://localhost:8080/",
          "height": 34
        },
        "outputId": "32c0dbc1-2730-4a7f-8336-117f75c2917a"
      },
      "source": [
        "Tap.count(1234)"
      ],
      "execution_count": 81,
      "outputs": [
        {
          "output_type": "execute_result",
          "data": {
            "text/plain": [
              "1"
            ]
          },
          "metadata": {
            "tags": []
          },
          "execution_count": 81
        }
      ]
    },
    {
      "cell_type": "code",
      "metadata": {
        "id": "DTmMijA4c_6A",
        "colab_type": "code",
        "colab": {
          "base_uri": "https://localhost:8080/",
          "height": 34
        },
        "outputId": "b5abd76b-5df0-4aff-8f1d-c245756b1ae1"
      },
      "source": [
        "Tap.index(1234)"
      ],
      "execution_count": 82,
      "outputs": [
        {
          "output_type": "execute_result",
          "data": {
            "text/plain": [
              "1"
            ]
          },
          "metadata": {
            "tags": []
          },
          "execution_count": 82
        }
      ]
    },
    {
      "cell_type": "markdown",
      "metadata": {
        "id": "Az1fhkmFeDic",
        "colab_type": "text"
      },
      "source": [
        "**#STRING**"
      ]
    },
    {
      "cell_type": "code",
      "metadata": {
        "id": "KwvrnqkkeIMb",
        "colab_type": "code",
        "colab": {}
      },
      "source": [
        "A1=\"abcd\""
      ],
      "execution_count": 83,
      "outputs": []
    },
    {
      "cell_type": "code",
      "metadata": {
        "id": "um5wx8exeUF3",
        "colab_type": "code",
        "colab": {}
      },
      "source": [
        "A2=\"pQr\""
      ],
      "execution_count": 84,
      "outputs": []
    },
    {
      "cell_type": "code",
      "metadata": {
        "id": "pAF9S_39edES",
        "colab_type": "code",
        "colab": {}
      },
      "source": [
        "A3=A1.join(A2)"
      ],
      "execution_count": 85,
      "outputs": []
    },
    {
      "cell_type": "code",
      "metadata": {
        "id": "SbdvvDKme-SK",
        "colab_type": "code",
        "colab": {
          "base_uri": "https://localhost:8080/",
          "height": 34
        },
        "outputId": "6c0dc851-1220-4337-a870-91d309dbff4f"
      },
      "source": [
        "print(A3)"
      ],
      "execution_count": 86,
      "outputs": [
        {
          "output_type": "stream",
          "text": [
            "pabcdQabcdr\n"
          ],
          "name": "stdout"
        }
      ]
    },
    {
      "cell_type": "code",
      "metadata": {
        "id": "tA0twPrNfETS",
        "colab_type": "code",
        "colab": {
          "base_uri": "https://localhost:8080/",
          "height": 34
        },
        "outputId": "20355565-d573-48be-c0bf-ed0ebeb36aa2"
      },
      "source": [
        "A1.isupper()"
      ],
      "execution_count": 87,
      "outputs": [
        {
          "output_type": "execute_result",
          "data": {
            "text/plain": [
              "False"
            ]
          },
          "metadata": {
            "tags": []
          },
          "execution_count": 87
        }
      ]
    },
    {
      "cell_type": "code",
      "metadata": {
        "id": "8d9_FBw1fMTt",
        "colab_type": "code",
        "colab": {
          "base_uri": "https://localhost:8080/",
          "height": 35
        },
        "outputId": "19a67e5a-4421-45ce-b402-762e9370e778"
      },
      "source": [
        "A2.lower()"
      ],
      "execution_count": 88,
      "outputs": [
        {
          "output_type": "execute_result",
          "data": {
            "application/vnd.google.colaboratory.intrinsic+json": {
              "type": "string"
            },
            "text/plain": [
              "'pqr'"
            ]
          },
          "metadata": {
            "tags": []
          },
          "execution_count": 88
        }
      ]
    },
    {
      "cell_type": "code",
      "metadata": {
        "id": "H4FiL9clfRoL",
        "colab_type": "code",
        "colab": {
          "base_uri": "https://localhost:8080/",
          "height": 35
        },
        "outputId": "6cae78d1-c027-418e-d96c-d3c0a3c29fb7"
      },
      "source": [
        "A2.upper()"
      ],
      "execution_count": 89,
      "outputs": [
        {
          "output_type": "execute_result",
          "data": {
            "application/vnd.google.colaboratory.intrinsic+json": {
              "type": "string"
            },
            "text/plain": [
              "'PQR'"
            ]
          },
          "metadata": {
            "tags": []
          },
          "execution_count": 89
        }
      ]
    },
    {
      "cell_type": "code",
      "metadata": {
        "id": "J0EAHewFfWDj",
        "colab_type": "code",
        "colab": {
          "base_uri": "https://localhost:8080/",
          "height": 35
        },
        "outputId": "cba54803-03ec-4aad-adff-2e2da4434130"
      },
      "source": [
        "A3.swapcase()"
      ],
      "execution_count": 90,
      "outputs": [
        {
          "output_type": "execute_result",
          "data": {
            "application/vnd.google.colaboratory.intrinsic+json": {
              "type": "string"
            },
            "text/plain": [
              "'PABCDqABCDR'"
            ]
          },
          "metadata": {
            "tags": []
          },
          "execution_count": 90
        }
      ]
    },
    {
      "cell_type": "code",
      "metadata": {
        "id": "gDvgF2ZXfZxw",
        "colab_type": "code",
        "colab": {}
      },
      "source": [
        "X=\"hello world hii\""
      ],
      "execution_count": 94,
      "outputs": []
    },
    {
      "cell_type": "code",
      "metadata": {
        "id": "oOqPyEX_fsfc",
        "colab_type": "code",
        "colab": {
          "base_uri": "https://localhost:8080/",
          "height": 34
        },
        "outputId": "7c089e94-0629-4a4d-f0c9-07bd83b0dc4c"
      },
      "source": [
        "X.split()"
      ],
      "execution_count": 95,
      "outputs": [
        {
          "output_type": "execute_result",
          "data": {
            "text/plain": [
              "['hello', 'world', 'hii']"
            ]
          },
          "metadata": {
            "tags": []
          },
          "execution_count": 95
        }
      ]
    },
    {
      "cell_type": "markdown",
      "metadata": {
        "id": "u6ISCeu7gLgv",
        "colab_type": "text"
      },
      "source": [
        "**#INTEGER**"
      ]
    },
    {
      "cell_type": "code",
      "metadata": {
        "id": "tk4TZbItgSGZ",
        "colab_type": "code",
        "colab": {}
      },
      "source": [
        "a=14\n",
        "b=15"
      ],
      "execution_count": 96,
      "outputs": []
    },
    {
      "cell_type": "code",
      "metadata": {
        "id": "bgAzkyvGg7Hz",
        "colab_type": "code",
        "colab": {
          "base_uri": "https://localhost:8080/",
          "height": 34
        },
        "outputId": "c9ae3fe3-4586-4793-aa4e-9767818d3f20"
      },
      "source": [
        "print(a,b)"
      ],
      "execution_count": 97,
      "outputs": [
        {
          "output_type": "stream",
          "text": [
            "14 15\n"
          ],
          "name": "stdout"
        }
      ]
    },
    {
      "cell_type": "code",
      "metadata": {
        "id": "GojzqVC0hA0j",
        "colab_type": "code",
        "colab": {
          "base_uri": "https://localhost:8080/",
          "height": 34
        },
        "outputId": "52bba84d-40e2-4980-d64d-2bbc2b561a6d"
      },
      "source": [
        "print(a+b)"
      ],
      "execution_count": 98,
      "outputs": [
        {
          "output_type": "stream",
          "text": [
            "29\n"
          ],
          "name": "stdout"
        }
      ]
    },
    {
      "cell_type": "code",
      "metadata": {
        "id": "-4StPZGfhI0m",
        "colab_type": "code",
        "colab": {
          "base_uri": "https://localhost:8080/",
          "height": 34
        },
        "outputId": "41aec6a0-4b71-4e02-a738-9a39ca820beb"
      },
      "source": [
        "print(a/b)"
      ],
      "execution_count": 99,
      "outputs": [
        {
          "output_type": "stream",
          "text": [
            "0.9333333333333333\n"
          ],
          "name": "stdout"
        }
      ]
    },
    {
      "cell_type": "code",
      "metadata": {
        "id": "vawJVQQeiv6v",
        "colab_type": "code",
        "colab": {
          "base_uri": "https://localhost:8080/",
          "height": 34
        },
        "outputId": "99adb055-7fc1-4a87-c857-4e79ecee4030"
      },
      "source": [
        "type(a)"
      ],
      "execution_count": 100,
      "outputs": [
        {
          "output_type": "execute_result",
          "data": {
            "text/plain": [
              "int"
            ]
          },
          "metadata": {
            "tags": []
          },
          "execution_count": 100
        }
      ]
    }
  ]
}